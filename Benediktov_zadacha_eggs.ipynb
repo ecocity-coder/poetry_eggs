{
  "nbformat": 4,
  "nbformat_minor": 0,
  "metadata": {
    "colab": {
      "provenance": []
    },
    "kernelspec": {
      "name": "python3",
      "display_name": "Python 3"
    },
    "language_info": {
      "name": "python"
    }
  },
  "cells": [
    {
      "cell_type": "code",
      "execution_count": null,
      "metadata": {
        "colab": {
          "base_uri": "https://localhost:8080/"
        },
        "id": "LKMj5s6dEH5Q",
        "outputId": "88e800bb-ad97-40bb-fee9-20103e4903da"
      },
      "outputs": [
        {
          "output_type": "stream",
          "name": "stdout",
          "text": [
            "Выручка старшей: 30 коп.\n",
            "Выручка средней: 30.0 коп.\n",
            "Выручка младшей: 30.0 коп.\n",
            "Цена за десяток: 30 коп. (минимум 10 коп.)\n",
            "Общая выручка: 90.0 коп. (минимум 90 коп.)\n"
          ]
        }
      ],
      "source": [
        "eggs_old = 10\n",
        "eggs_mid = 30\n",
        "eggs_young = 50\n",
        "\n",
        "# Цены для разных частей\n",
        "price1 = 3       # старшая\n",
        "price2 = 2.5     # первые яйца средней\n",
        "price3 = 0.25    # остальные яйца средней\n",
        "price4 = 0.125   # остальные яйца младшей\n",
        "\n",
        "# Выручка\n",
        "profit_old = eggs_old * price1\n",
        "profit_mid = 10 * price2 + 20 * price3\n",
        "profit_young = 10 * price2 + 40 * price4\n",
        "\n",
        "# Проверка\n",
        "print(f\"Выручка старшей: {profit_old} коп.\")\n",
        "print(f\"Выручка средней: {profit_mid} коп.\")\n",
        "print(f\"Выручка младшей: {profit_young} коп.\")\n",
        "print(f\"Цена за десяток: {price1 * 10} коп. (минимум 10 коп.)\")\n",
        "print(f\"Общая выручка: {profit_old + profit_mid + profit_young} коп. (минимум 90 коп.)\")\n",
        "\n"
      ]
    }
  ]
}